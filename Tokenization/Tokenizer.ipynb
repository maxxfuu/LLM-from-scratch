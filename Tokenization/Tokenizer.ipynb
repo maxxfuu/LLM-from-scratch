{
 "cells": [
  {
   "cell_type": "code",
   "execution_count": 1,
   "metadata": {},
   "outputs": [],
   "source": [
    "# import necessary dependecies \n",
    "import re # regular expression to check if theres a pattern \n",
    "import tiktoken # Implementing Byte Pair Encoding using exisitng open-source library \n",
    "\n",
    "import torch \n",
    "from torch.utils.data import Dataset, DataLoader "
   ]
  },
  {
   "cell_type": "code",
   "execution_count": null,
   "metadata": {},
   "outputs": [],
   "source": [
    "# Check if Mac supports PyTorch Acceleration with Apple Silicon Chip \n",
    "print(torch.backends.mps.is_available())"
   ]
  },
  {
   "cell_type": "code",
   "execution_count": 3,
   "metadata": {},
   "outputs": [],
   "source": [
    "class SimpleTokenizer: \n",
    "    def __init__(self, vocab):\n",
    "        self.string_to_integer = vocab\n",
    "        self.integer_to_string = {i:s for s,i in vocab.items()} \n",
    "        \n",
    "    def encode(self, text):\n",
    "        preprocessed = re.split(r'([,.?_!\"()\\']|--|\\s)', text)  # Split text by specific punctuation and whitespace\n",
    "        preprocessed = [item.strip() for item in preprocessed if item.strip()]  # Strip and filter out empty items\n",
    "        preprocessed = [item if item in self.string_to_integer else \"<|unk|>\" for item in preprocessed]\n",
    "\n",
    "        ids = [self.string_to_integer[s] for s in preprocessed if s in self.string_to_integer]  # Map the text to ids\n",
    "        return ids\n",
    "\n",
    "    def decode(self, ids): \n",
    "        text = \" \".join([self.integer_to_string[i] for i in ids])\n",
    "        text = re.sub(r'\\s+([,.?!\"()\\'])', r'\\1', text)\n",
    "        return text\n",
    "    "
   ]
  },
  {
   "cell_type": "code",
   "execution_count": 4,
   "metadata": {},
   "outputs": [],
   "source": [
    "class GPTDatasetV1(Dataset):\n",
    "    def __init__(self, txt, tokenizer, max_length, stride): \n",
    "        self.input_ids = []\n",
    "        self.target_ids = [] \n",
    "        \n",
    "        token_ids = tokenizer.encode(txt, allowed_special = {\"|endoftext|>\"}) \n",
    "        \n",
    "        for i in range(0, len(token_ids) - max_length, stride): # Creating context window \n",
    "            input_chunk = token_ids[i:i + max_length]\n",
    "            target_chunk = token_ids[i + 1: i + max_length + 1]\n",
    "            self.input_ids.append(torch.tensor(input_chunk)) # Creates a input matricies  \n",
    "            self.target_ids.append(torch.tensor(target_chunk)) # Creates a input matricies  \n",
    "            \n",
    "    def __len__(self): \n",
    "        return len(self.input_ids)\n",
    "    \n",
    "    def __getitem__(self, idx): \n",
    "        return self.input_ids[idx], self.target_ids[idx]\n"
   ]
  },
  {
   "cell_type": "code",
   "execution_count": 5,
   "metadata": {},
   "outputs": [],
   "source": [
    "def create_dataloader_v1(txt, batch_size =4, max_length=256, stride=128, shuffle=True, drop_last=True, num_worker = 0):\n",
    "    tokenizer = tiktoken.get_encoding(\"gpt2\") \n",
    "    dataset = GPTDatasetV1(txt, tokenizer, max_length, stride)\n",
    "    \n",
    "    dataloader = DataLoader(\n",
    "        dataset, \n",
    "        batch_size=batch_size, \n",
    "        shuffle=shuffle,\n",
    "        drop_last=drop_last, \n",
    "        num_workers=num_worker)\n",
    "    \n",
    "    return dataloader"
   ]
  },
  {
   "cell_type": "code",
   "execution_count": null,
   "metadata": {},
   "outputs": [],
   "source": [
    "with open(\"The_Verdict.txt\", \"r\", encoding=\"utf=8\") as f: \n",
    "    text = f.read() \n",
    "    \n",
    "result = re.split(r'([,.:;?_!\"()\\']|--|\\s)', text)\n",
    "preprocessed = [item for item in result if item.strip()]                #further remove whitespaces from string list \n",
    "all_tokens = sorted(list(set(preprocessed)))               # set() builds a hash set, and list() makes the set into a list. \n",
    "all_tokens.extend([\"<|endoftext|>\", \"<|unk|>\"])\n",
    "\n",
    "vocab = {token:integer for integer, token in enumerate(all_tokens)}\n",
    "\n",
    "vocab\n"
   ]
  },
  {
   "cell_type": "code",
   "execution_count": 9,
   "metadata": {},
   "outputs": [],
   "source": [
    "# Test - Instantiate an object \n",
    "tokenizer = SimpleTokenizer(vocab) \n",
    "ids = tokenizer.encode(text) \n",
    "\n",
    "decoded_text = tokenizer.decode(ids) \n"
   ]
  },
  {
   "cell_type": "code",
   "execution_count": null,
   "metadata": {},
   "outputs": [],
   "source": [
    "ids"
   ]
  },
  {
   "cell_type": "code",
   "execution_count": null,
   "metadata": {},
   "outputs": [],
   "source": [
    "decoded_text"
   ]
  },
  {
   "cell_type": "code",
   "execution_count": null,
   "metadata": {},
   "outputs": [],
   "source": [
    "for i, item in enumerate(list(vocab.items())[-5:]):\n",
    "    print(item)"
   ]
  },
  {
   "cell_type": "code",
   "execution_count": null,
   "metadata": {},
   "outputs": [],
   "source": [
    "# Test end of text token in the case of additional test source\n",
    "text1 = \"Hello, do you like tea?\"\n",
    "text2 = \"In the sunlit terraces of the palace.\"\n",
    "text = \" <|endoftext|> \".join((text1, text2))\n",
    "print(text)"
   ]
  },
  {
   "cell_type": "code",
   "execution_count": null,
   "metadata": {},
   "outputs": [],
   "source": [
    "tokenizer = SimpleTokenizer(vocab)\n",
    "print(tokenizer.encode(text))\n"
   ]
  },
  {
   "cell_type": "code",
   "execution_count": null,
   "metadata": {},
   "outputs": [],
   "source": [
    "print(tokenizer.decode(tokenizer.encode(text)))"
   ]
  },
  {
   "cell_type": "markdown",
   "metadata": {},
   "source": [
    "# TEST - Byte Pair Encoding "
   ]
  },
  {
   "cell_type": "code",
   "execution_count": null,
   "metadata": {},
   "outputs": [],
   "source": [
    "tokenizer = tiktoken.get_encoding(\"gpt2\") \n",
    "integers = tokenizer.encode(text, allowed_special={\"<|endoftext|>\"})\n",
    "print(integers)"
   ]
  },
  {
   "cell_type": "code",
   "execution_count": null,
   "metadata": {},
   "outputs": [],
   "source": [
    "print(type(integers))"
   ]
  },
  {
   "cell_type": "code",
   "execution_count": null,
   "metadata": {},
   "outputs": [],
   "source": [
    "text = \"AKwirw ier\"\n",
    "integers = tokenizer.encode(text)\n",
    "tokenizer.decode(integers)"
   ]
  },
  {
   "cell_type": "code",
   "execution_count": 22,
   "metadata": {},
   "outputs": [
    {
     "data": {
      "text/plain": [
       "[tensor([[  464,  4643, 11600,   628]]),\n",
       " tensor([[ 4643, 11600,   628,   198]])]"
      ]
     },
     "execution_count": 22,
     "metadata": {},
     "output_type": "execute_result"
    }
   ],
   "source": [
    "with open(\"The_Verdict.txt\", 'r', encoding=\"utf=8\") as f:\n",
    "    raw_text = f.read()\n",
    "    \n",
    "dataloader = create_dataloader_v1(\n",
    "    raw_text, batch_size=1, max_length=4, stride=1, shuffle=False\n",
    ")\n",
    "\n",
    "data_iter = iter(dataloader)\n",
    "first_batch = next(data_iter)\n",
    "first_batch\n",
    "\n",
    " "
   ]
  },
  {
   "cell_type": "code",
   "execution_count": 20,
   "metadata": {},
   "outputs": [],
   "source": [
    "second_batch = next(data_iter)"
   ]
  },
  {
   "cell_type": "code",
   "execution_count": 23,
   "metadata": {},
   "outputs": [
    {
     "data": {
      "text/plain": [
       "[tensor([[ 4643, 11600,   628,   198]]),\n",
       " tensor([[11600,   628,   198,   197]])]"
      ]
     },
     "execution_count": 23,
     "metadata": {},
     "output_type": "execute_result"
    }
   ],
   "source": [
    "second_batch # Each stride is a representation of the next context window size"
   ]
  },
  {
   "cell_type": "code",
   "execution_count": 26,
   "metadata": {},
   "outputs": [
    {
     "name": "stdout",
     "output_type": "stream",
     "text": [
      "Inputs:\n",
      " tensor([[  464,  4643, 11600,   628],\n",
      "        [  198,   197,   197,   197],\n",
      "        [  197,   197,  7407,   342],\n",
      "        [  854, 41328,   628,   628],\n",
      "        [  198,   198,  1129,  2919],\n",
      "        [  628,   628,   198,   198],\n",
      "        [ 3109,  9213,   422, 11145],\n",
      "        [  271,  1668,   319,  2693]])\n",
      "\n",
      "Targets:\n",
      " tensor([[ 4643, 11600,   628,   198],\n",
      "        [  197,   197,   197,   197],\n",
      "        [  197,  7407,   342,   854],\n",
      "        [41328,   628,   628,   198],\n",
      "        [  198,  1129,  2919,   628],\n",
      "        [  628,   198,   198,  3109],\n",
      "        [ 9213,   422, 11145,   271],\n",
      "        [ 1668,   319,  2693,  1467]])\n"
     ]
    }
   ],
   "source": [
    "dataloader = create_dataloader_v1(raw_text, batch_size=8, max_length=4, stride=4, shuffle=False)\n",
    "\n",
    "data_iter = iter(dataloader)\n",
    "inputs, targets = next(data_iter) \n",
    "print(\"Inputs:\\n\", inputs) \n",
    "print(\"\\nTargets:\\n\", targets)"
   ]
  },
  {
   "cell_type": "code",
   "execution_count": null,
   "metadata": {},
   "outputs": [],
   "source": []
  }
 ],
 "metadata": {
  "kernelspec": {
   "display_name": "LLM",
   "language": "python",
   "name": "python3"
  },
  "language_info": {
   "codemirror_mode": {
    "name": "ipython",
    "version": 3
   },
   "file_extension": ".py",
   "mimetype": "text/x-python",
   "name": "python",
   "nbconvert_exporter": "python",
   "pygments_lexer": "ipython3",
   "version": "3.12.6"
  }
 },
 "nbformat": 4,
 "nbformat_minor": 2
}
